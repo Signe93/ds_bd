{
 "cells": [
  {
   "cell_type": "code",
   "execution_count": 1,
   "id": "efedd730-4a52-4b48-a21d-62b3ee97df3e",
   "metadata": {},
   "outputs": [],
   "source": [
    "from pyspark.sql.session import SparkSession\n",
    "from pyspark.ml.stat import Summarizer\n",
    "from helpers.helper_functions import translate_to_file_string"
   ]
  },
  {
   "cell_type": "code",
   "execution_count": 2,
   "id": "1878cb3a-f626-4920-bb34-d6c8badc73c2",
   "metadata": {},
   "outputs": [],
   "source": [
    "inputFile = translate_to_file_string(\"../data/Flight_Delay_Jan_2020_ontime.csv\")"
   ]
  },
  {
   "cell_type": "code",
   "execution_count": 3,
   "id": "07096c67-2915-46e2-a648-d88d8acb97f7",
   "metadata": {},
   "outputs": [],
   "source": [
    "spark = (SparkSession\n",
    "       .builder\n",
    "       .appName(\"FlightDataStatistics\")\n",
    "       .getOrCreate())"
   ]
  },
  {
   "cell_type": "code",
   "execution_count": 4,
   "id": "a21b7c93-f6ba-4307-ba66-8acca908cddf",
   "metadata": {},
   "outputs": [
    {
     "name": "stdout",
     "output_type": "stream",
     "text": [
      "root\n",
      " |-- DAY_OF_MONTH: integer (nullable = true)\n",
      " |-- DAY_OF_WEEK: integer (nullable = true)\n",
      " |-- OP_UNIQUE_CARRIER: string (nullable = true)\n",
      " |-- OP_CARRIER_AIRLINE_ID: integer (nullable = true)\n",
      " |-- OP_CARRIER: string (nullable = true)\n",
      " |-- TAIL_NUM: string (nullable = true)\n",
      " |-- OP_CARRIER_FL_NUM: integer (nullable = true)\n",
      " |-- ORIGIN_AIRPORT_ID: integer (nullable = true)\n",
      " |-- ORIGIN_AIRPORT_SEQ_ID: integer (nullable = true)\n",
      " |-- ORIGIN: string (nullable = true)\n",
      " |-- DEST_AIRPORT_ID: integer (nullable = true)\n",
      " |-- DEST_AIRPORT_SEQ_ID: integer (nullable = true)\n",
      " |-- DEST: string (nullable = true)\n",
      " |-- DEP_TIME: integer (nullable = true)\n",
      " |-- DEP_DEL15: double (nullable = true)\n",
      " |-- DEP_TIME_BLK: string (nullable = true)\n",
      " |-- ARR_TIME: integer (nullable = true)\n",
      " |-- ARR_DEL15: double (nullable = true)\n",
      " |-- CANCELLED: double (nullable = true)\n",
      " |-- DIVERTED: double (nullable = true)\n",
      " |-- DISTANCE: double (nullable = true)\n",
      " |-- _c21: string (nullable = true)\n",
      "\n",
      "None\n"
     ]
    }
   ],
   "source": [
    "pysparkDF = spark.read.option(\"header\", \"true\") \\\n",
    "       .option(\"inferSchema\", \"true\") \\\n",
    "       .option(\"delimiter\", \",\") \\\n",
    "       .csv(inputFile)\n",
    "print(pysparkDF.printSchema())"
   ]
  },
  {
   "cell_type": "markdown",
   "id": "a9772f6e-ecaa-4799-b482-a1ef317d5132",
   "metadata": {},
   "source": [
    "Die Anzahl der Spalten kann mit dem Befehl `len(pysparkDF.columns)` berechnet werden. Dabei liefert `DataFrame.columns` eine Liste aller Spalten. Die Länge der Einträge kann anschließend mit `len()` abgerufen werden."
   ]
  },
  {
   "cell_type": "code",
   "execution_count": 5,
   "id": "ab836947-2ca1-4580-8b7d-aed7f2530788",
   "metadata": {},
   "outputs": [
    {
     "name": "stdout",
     "output_type": "stream",
     "text": [
      "Der Datensatz enthält 22 Spalten\n"
     ]
    }
   ],
   "source": [
    "anzahlSpalten = len(pysparkDF.columns)\n",
    "print(\"Der Datensatz enthält \" + str(anzahlSpalten) + \" Spalten\")"
   ]
  },
  {
   "cell_type": "markdown",
   "id": "e43c15bf-4598-4e69-9619-2dd543da8dcf",
   "metadata": {},
   "source": [
    "Die Anzahl der Zeilen kann mit dem Befehl `DataFrame.count()` ausgegeben werden."
   ]
  },
  {
   "cell_type": "code",
   "execution_count": 6,
   "id": "a82281be-f3ce-427c-830f-9684976f19e0",
   "metadata": {},
   "outputs": [
    {
     "name": "stdout",
     "output_type": "stream",
     "text": [
      "Der Datensatz enthält 607346 Zeilen\n"
     ]
    }
   ],
   "source": [
    "anzahlZeilen = pysparkDF.count()\n",
    "print(\"Der Datensatz enthält \" + str(anzahlZeilen) + \" Zeilen\")"
   ]
  },
  {
   "cell_type": "code",
   "execution_count": 7,
   "id": "6c54f3bc-e3e2-48d2-a477-e81f91fed4ec",
   "metadata": {},
   "outputs": [
    {
     "data": {
      "text/plain": [
       "[Row(DAY_OF_MONTH=1, DAY_OF_WEEK=3, OP_UNIQUE_CARRIER='EV', OP_CARRIER_AIRLINE_ID=20366, OP_CARRIER='EV', TAIL_NUM='N48901', OP_CARRIER_FL_NUM=4397, ORIGIN_AIRPORT_ID=13930, ORIGIN_AIRPORT_SEQ_ID=1393007, ORIGIN='ORD', DEST_AIRPORT_ID=11977, DEST_AIRPORT_SEQ_ID=1197705, DEST='GRB', DEP_TIME=1003, DEP_DEL15=0.0, DEP_TIME_BLK='1000-1059', ARR_TIME=1117, ARR_DEL15=0.0, CANCELLED=0.0, DIVERTED=0.0, DISTANCE=174.0, _c21=None),\n",
       " Row(DAY_OF_MONTH=1, DAY_OF_WEEK=3, OP_UNIQUE_CARRIER='EV', OP_CARRIER_AIRLINE_ID=20366, OP_CARRIER='EV', TAIL_NUM='N16976', OP_CARRIER_FL_NUM=4401, ORIGIN_AIRPORT_ID=15370, ORIGIN_AIRPORT_SEQ_ID=1537002, ORIGIN='TUL', DEST_AIRPORT_ID=13930, DEST_AIRPORT_SEQ_ID=1393007, DEST='ORD', DEP_TIME=1027, DEP_DEL15=0.0, DEP_TIME_BLK='1000-1059', ARR_TIME=1216, ARR_DEL15=0.0, CANCELLED=0.0, DIVERTED=0.0, DISTANCE=585.0, _c21=None),\n",
       " Row(DAY_OF_MONTH=1, DAY_OF_WEEK=3, OP_UNIQUE_CARRIER='EV', OP_CARRIER_AIRLINE_ID=20366, OP_CARRIER='EV', TAIL_NUM='N12167', OP_CARRIER_FL_NUM=4404, ORIGIN_AIRPORT_ID=11618, ORIGIN_AIRPORT_SEQ_ID=1161802, ORIGIN='EWR', DEST_AIRPORT_ID=15412, DEST_AIRPORT_SEQ_ID=1541205, DEST='TYS', DEP_TIME=1848, DEP_DEL15=0.0, DEP_TIME_BLK='1800-1859', ARR_TIME=2120, ARR_DEL15=0.0, CANCELLED=0.0, DIVERTED=0.0, DISTANCE=631.0, _c21=None),\n",
       " Row(DAY_OF_MONTH=1, DAY_OF_WEEK=3, OP_UNIQUE_CARRIER='EV', OP_CARRIER_AIRLINE_ID=20366, OP_CARRIER='EV', TAIL_NUM='N14902', OP_CARRIER_FL_NUM=4405, ORIGIN_AIRPORT_ID=10781, ORIGIN_AIRPORT_SEQ_ID=1078105, ORIGIN='BTR', DEST_AIRPORT_ID=12266, DEST_AIRPORT_SEQ_ID=1226603, DEST='IAH', DEP_TIME=1846, DEP_DEL15=0.0, DEP_TIME_BLK='1800-1859', ARR_TIME=2004, ARR_DEL15=0.0, CANCELLED=0.0, DIVERTED=0.0, DISTANCE=253.0, _c21=None),\n",
       " Row(DAY_OF_MONTH=1, DAY_OF_WEEK=3, OP_UNIQUE_CARRIER='EV', OP_CARRIER_AIRLINE_ID=20366, OP_CARRIER='EV', TAIL_NUM='N606UX', OP_CARRIER_FL_NUM=4407, ORIGIN_AIRPORT_ID=14524, ORIGIN_AIRPORT_SEQ_ID=1452401, ORIGIN='RIC', DEST_AIRPORT_ID=12266, DEST_AIRPORT_SEQ_ID=1226603, DEST='IAH', DEP_TIME=1038, DEP_DEL15=0.0, DEP_TIME_BLK='1000-1059', ARR_TIME=1330, ARR_DEL15=0.0, CANCELLED=0.0, DIVERTED=0.0, DISTANCE=1157.0, _c21=None),\n",
       " Row(DAY_OF_MONTH=1, DAY_OF_WEEK=3, OP_UNIQUE_CARRIER='EV', OP_CARRIER_AIRLINE_ID=20366, OP_CARRIER='EV', TAIL_NUM='N605UX', OP_CARRIER_FL_NUM=4408, ORIGIN_AIRPORT_ID=13871, ORIGIN_AIRPORT_SEQ_ID=1387102, ORIGIN='OMA', DEST_AIRPORT_ID=12266, DEST_AIRPORT_SEQ_ID=1226603, DEST='IAH', DEP_TIME=555, DEP_DEL15=0.0, DEP_TIME_BLK='0600-0659', ARR_TIME=838, ARR_DEL15=0.0, CANCELLED=0.0, DIVERTED=0.0, DISTANCE=781.0, _c21=None),\n",
       " Row(DAY_OF_MONTH=1, DAY_OF_WEEK=3, OP_UNIQUE_CARRIER='EV', OP_CARRIER_AIRLINE_ID=20366, OP_CARRIER='EV', TAIL_NUM='N14991', OP_CARRIER_FL_NUM=4410, ORIGIN_AIRPORT_ID=12266, ORIGIN_AIRPORT_SEQ_ID=1226603, ORIGIN='IAH', DEST_AIRPORT_ID=14814, DEST_AIRPORT_SEQ_ID=1481402, DEST='SHV', DEP_TIME=1610, DEP_DEL15=0.0, DEP_TIME_BLK='1600-1659', ARR_TIME=1718, ARR_DEL15=0.0, CANCELLED=0.0, DIVERTED=0.0, DISTANCE=192.0, _c21=None),\n",
       " Row(DAY_OF_MONTH=1, DAY_OF_WEEK=3, OP_UNIQUE_CARRIER='EV', OP_CARRIER_AIRLINE_ID=20366, OP_CARRIER='EV', TAIL_NUM='N15986', OP_CARRIER_FL_NUM=4411, ORIGIN_AIRPORT_ID=12266, ORIGIN_AIRPORT_SEQ_ID=1226603, ORIGIN='IAH', DEST_AIRPORT_ID=12206, DEST_AIRPORT_SEQ_ID=1220605, DEST='HRL', DEP_TIME=1415, DEP_DEL15=0.0, DEP_TIME_BLK='1400-1459', ARR_TIME=1531, ARR_DEL15=0.0, CANCELLED=0.0, DIVERTED=0.0, DISTANCE=295.0, _c21=None),\n",
       " Row(DAY_OF_MONTH=1, DAY_OF_WEEK=3, OP_UNIQUE_CARRIER='EV', OP_CARRIER_AIRLINE_ID=20366, OP_CARRIER='EV', TAIL_NUM='N603UX', OP_CARRIER_FL_NUM=4412, ORIGIN_AIRPORT_ID=13930, ORIGIN_AIRPORT_SEQ_ID=1393007, ORIGIN='ORD', DEST_AIRPORT_ID=10140, DEST_AIRPORT_SEQ_ID=1014005, DEST='ABQ', DEP_TIME=1938, DEP_DEL15=0.0, DEP_TIME_BLK='1900-1959', ARR_TIME=2204, ARR_DEL15=0.0, CANCELLED=0.0, DIVERTED=0.0, DISTANCE=1118.0, _c21=None),\n",
       " Row(DAY_OF_MONTH=1, DAY_OF_WEEK=3, OP_UNIQUE_CARRIER='EV', OP_CARRIER_AIRLINE_ID=20366, OP_CARRIER='EV', TAIL_NUM='N13975', OP_CARRIER_FL_NUM=4414, ORIGIN_AIRPORT_ID=11618, ORIGIN_AIRPORT_SEQ_ID=1161802, ORIGIN='EWR', DEST_AIRPORT_ID=13485, DEST_AIRPORT_SEQ_ID=1348502, DEST='MSN', DEP_TIME=1011, DEP_DEL15=0.0, DEP_TIME_BLK='1000-1059', ARR_TIME=1139, ARR_DEL15=0.0, CANCELLED=0.0, DIVERTED=0.0, DISTANCE=799.0, _c21=None)]"
      ]
     },
     "execution_count": 7,
     "metadata": {},
     "output_type": "execute_result"
    }
   ],
   "source": [
    "pysparkDF.head(10)"
   ]
  },
  {
   "cell_type": "code",
   "execution_count": null,
   "id": "7df705cf-804b-47ef-9556-15c19970847e",
   "metadata": {},
   "outputs": [],
   "source": [
    "pysparkDF.summary().show()"
   ]
  },
  {
   "cell_type": "code",
   "execution_count": null,
   "id": "07867d77-a1c4-4431-ab6e-8295aa8fd88b",
   "metadata": {},
   "outputs": [],
   "source": [
    "pandasDf = pysparkDF.toPandas()"
   ]
  },
  {
   "cell_type": "code",
   "execution_count": null,
   "id": "cbb93e81-1974-4750-a707-9e2767732261",
   "metadata": {},
   "outputs": [],
   "source": [
    "pandasDf.head(10)"
   ]
  },
  {
   "cell_type": "code",
   "execution_count": null,
   "id": "3b3bb162-b284-43f1-84d7-77fd384f1699",
   "metadata": {},
   "outputs": [],
   "source": [
    "pandasDf.describe()"
   ]
  },
  {
   "cell_type": "code",
   "execution_count": null,
   "id": "da7320db-0850-4e7d-a4ce-afc976406f1f",
   "metadata": {},
   "outputs": [],
   "source": [
    "spark.stop()"
   ]
  }
 ],
 "metadata": {
  "kernelspec": {
   "display_name": "Python 3",
   "language": "python",
   "name": "python3"
  },
  "language_info": {
   "codemirror_mode": {
    "name": "ipython",
    "version": 3
   },
   "file_extension": ".py",
   "mimetype": "text/x-python",
   "name": "python",
   "nbconvert_exporter": "python",
   "pygments_lexer": "ipython3",
   "version": "3.8.8"
  }
 },
 "nbformat": 4,
 "nbformat_minor": 5
}
