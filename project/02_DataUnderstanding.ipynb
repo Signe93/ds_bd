{
 "cells": [
  {
   "cell_type": "code",
   "execution_count": 1,
   "metadata": {},
   "outputs": [],
   "source": [
    "# Python ≥3.5 is required\r\n",
    "import sys\r\n",
    "assert sys.version_info >= (3, 5)\r\n",
    "\r\n",
    "# Scikit-Learn ≥0.20 is required\r\n",
    "import sklearn\r\n",
    "assert sklearn.__version__ >= \"0.20\"\r\n",
    "\r\n",
    "# Common imports\r\n",
    "import numpy as np\r\n",
    "import os\r\n",
    "import pandas as pd\r\n",
    "import seaborn as sns\r\n",
    "\r\n",
    "# To plot pretty figures\r\n",
    "%matplotlib inline\r\n",
    "import matplotlib as mpl\r\n",
    "import matplotlib.pyplot as plt\r\n",
    "mpl.rc('axes', labelsize=14)\r\n",
    "mpl.rc('xtick', labelsize=12)\r\n",
    "mpl.rc('ytick', labelsize=12)\r\n",
    "\r\n",
    "# Where to save the figures\r\n",
    "PROJECT_ROOT_DIR = \".\"\r\n",
    "CHAPTER_ID = \"end_to_end_project\"\r\n",
    "IMAGES_PATH = os.path.join(PROJECT_ROOT_DIR, \"images\", CHAPTER_ID)\r\n",
    "os.makedirs(IMAGES_PATH, exist_ok=True)\r\n",
    "\r\n",
    "def save_fig(fig_id, tight_layout=True, fig_extension=\"png\", resolution=300):\r\n",
    "    path = os.path.join(IMAGES_PATH, fig_id + \".\" + fig_extension)\r\n",
    "    print(\"Saving figure\", fig_id)\r\n",
    "    if tight_layout:\r\n",
    "        plt.tight_layout()\r\n",
    "    plt.savefig(path, format=fig_extension, dpi=resolution)\r\n",
    "\r\n",
    "# for pretty printing\r\n",
    "def printDf(sprkDF): \r\n",
    "    newdf = sprkDF.toPandas()\r\n",
    "    from IPython.display import display, HTML\r\n",
    "    return HTML(newdf.to_html())\r\n",
    "\r\n",
    "# Ignore useless warnings (see SciPy issue #5998)\r\n",
    "import warnings\r\n",
    "warnings.filterwarnings(action=\"ignore\", message=\"^internal gelsd\")\r\n",
    "\r\n",
    "# Spark libs\r\n",
    "from pyspark.sql.session import SparkSession\r\n",
    "\r\n",
    "# helper functions\r\n",
    "from helpers.helper_functions import translate_to_file_string"
   ]
  },
  {
   "cell_type": "code",
   "execution_count": 2,
   "metadata": {},
   "outputs": [],
   "source": [
    "from pyspark.sql.session import SparkSession\n",
    "from pyspark.sql.types import BooleanType\n",
    "from pyspark.sql.functions import expr\n",
    "from pyspark.ml.stat import Summarizer\n",
    "from pyspark.sql import functions as F\n",
    "from pyspark.ml.feature import VectorAssembler, StringIndexer, StandardScaler\n",
    "from helpers.helper_functions import translate_to_file_string"
   ]
  },
  {
   "cell_type": "code",
   "execution_count": 3,
   "metadata": {},
   "outputs": [],
   "source": [
    "inputFile = translate_to_file_string(\"../data/Flight_Delay_Jan_2020_ontime.csv\")"
   ]
  },
  {
   "cell_type": "code",
   "execution_count": 4,
   "metadata": {},
   "outputs": [],
   "source": [
    "spark = (SparkSession\n",
    "       .builder\n",
    "       .appName(\"FlightDataStatistics\")\n",
    "       .getOrCreate())"
   ]
  },
  {
   "cell_type": "code",
   "execution_count": 5,
   "metadata": {},
   "outputs": [
    {
     "name": "stdout",
     "output_type": "stream",
     "text": [
      "root\n",
      " |-- DAY_OF_MONTH: integer (nullable = true)\n",
      " |-- DAY_OF_WEEK: integer (nullable = true)\n",
      " |-- OP_UNIQUE_CARRIER: string (nullable = true)\n",
      " |-- OP_CARRIER_AIRLINE_ID: integer (nullable = true)\n",
      " |-- OP_CARRIER: string (nullable = true)\n",
      " |-- TAIL_NUM: string (nullable = true)\n",
      " |-- OP_CARRIER_FL_NUM: integer (nullable = true)\n",
      " |-- ORIGIN_AIRPORT_ID: integer (nullable = true)\n",
      " |-- ORIGIN_AIRPORT_SEQ_ID: integer (nullable = true)\n",
      " |-- ORIGIN: string (nullable = true)\n",
      " |-- DEST_AIRPORT_ID: integer (nullable = true)\n",
      " |-- DEST_AIRPORT_SEQ_ID: integer (nullable = true)\n",
      " |-- DEST: string (nullable = true)\n",
      " |-- DEP_TIME: integer (nullable = true)\n",
      " |-- DEP_DEL15: double (nullable = true)\n",
      " |-- DEP_TIME_BLK: string (nullable = true)\n",
      " |-- ARR_TIME: integer (nullable = true)\n",
      " |-- ARR_DEL15: double (nullable = true)\n",
      " |-- CANCELLED: double (nullable = true)\n",
      " |-- DIVERTED: double (nullable = true)\n",
      " |-- DISTANCE: double (nullable = true)\n",
      " |-- _c21: string (nullable = true)\n",
      " |-- DIVERTED_BOOL: boolean (nullable = true)\n",
      " |-- CANCELLED_BOOL: boolean (nullable = true)\n",
      " |-- DEP_DEL15_BOOL: boolean (nullable = true)\n",
      " |-- ARR_DEL15_BOOL: boolean (nullable = true)\n",
      "\n"
     ]
    }
   ],
   "source": [
    "pysparkDF = spark.read.option(\"header\", \"true\") \\\n",
    "        .option(\"inferSchema\", \"true\") \\\n",
    "        .option(\"delimiter\", \",\") \\\n",
    "        .csv(inputFile) \\\n",
    "        .withColumn(\"DIVERTED_BOOL\", expr(\"DIVERTED\").cast(BooleanType())) \\\n",
    "        .withColumn(\"CANCELLED_BOOL\", expr(\"CANCELLED\").cast(BooleanType())) \\\n",
    "        .withColumn(\"DEP_DEL15_BOOL\", expr(\"DEP_DEL15\").cast(BooleanType())) \\\n",
    "        .withColumn(\"ARR_DEL15_BOOL\", expr(\"ARR_DEL15\").cast(BooleanType())) \\\n",
    "        \n",
    "pysparkDF.printSchema()"
   ]
  },
  {
   "cell_type": "code",
   "execution_count": 6,
   "metadata": {},
   "outputs": [
    {
     "name": "stdout",
     "output_type": "stream",
     "text": [
      "Der Datensatz enthält 26 Spalten\n"
     ]
    }
   ],
   "source": [
    "#Anzahl Spalten\r\n",
    "anzahlSpalten = len(pysparkDF.columns)\r\n",
    "print(\"Der Datensatz enthält \" + str(anzahlSpalten) + \" Spalten\")"
   ]
  },
  {
   "cell_type": "code",
   "execution_count": 7,
   "metadata": {},
   "outputs": [
    {
     "name": "stdout",
     "output_type": "stream",
     "text": [
      "Der Datensatz enthält 607346 Zeilen\n"
     ]
    }
   ],
   "source": [
    "#Anzahl Zeilen\r\n",
    "anzahlZeilen = pysparkDF.count()\r\n",
    "print(\"Der Datensatz enthält \" + str(anzahlZeilen) + \" Zeilen\")"
   ]
  },
  {
   "cell_type": "code",
   "execution_count": 8,
   "metadata": {},
   "outputs": [
    {
     "data": {
      "text/plain": [
       "[Row(DAY_OF_MONTH=1, DAY_OF_WEEK=3, OP_UNIQUE_CARRIER='EV', OP_CARRIER_AIRLINE_ID=20366, OP_CARRIER='EV', TAIL_NUM='N48901', OP_CARRIER_FL_NUM=4397, ORIGIN_AIRPORT_ID=13930, ORIGIN_AIRPORT_SEQ_ID=1393007, ORIGIN='ORD', DEST_AIRPORT_ID=11977, DEST_AIRPORT_SEQ_ID=1197705, DEST='GRB', DEP_TIME=1003, DEP_DEL15=0.0, DEP_TIME_BLK='1000-1059', ARR_TIME=1117, ARR_DEL15=0.0, CANCELLED=0.0, DIVERTED=0.0, DISTANCE=174.0, _c21=None, DIVERTED_BOOL=False, CANCELLED_BOOL=False, DEP_DEL15_BOOL=False, ARR_DEL15_BOOL=False),\n",
       " Row(DAY_OF_MONTH=1, DAY_OF_WEEK=3, OP_UNIQUE_CARRIER='EV', OP_CARRIER_AIRLINE_ID=20366, OP_CARRIER='EV', TAIL_NUM='N16976', OP_CARRIER_FL_NUM=4401, ORIGIN_AIRPORT_ID=15370, ORIGIN_AIRPORT_SEQ_ID=1537002, ORIGIN='TUL', DEST_AIRPORT_ID=13930, DEST_AIRPORT_SEQ_ID=1393007, DEST='ORD', DEP_TIME=1027, DEP_DEL15=0.0, DEP_TIME_BLK='1000-1059', ARR_TIME=1216, ARR_DEL15=0.0, CANCELLED=0.0, DIVERTED=0.0, DISTANCE=585.0, _c21=None, DIVERTED_BOOL=False, CANCELLED_BOOL=False, DEP_DEL15_BOOL=False, ARR_DEL15_BOOL=False),\n",
       " Row(DAY_OF_MONTH=1, DAY_OF_WEEK=3, OP_UNIQUE_CARRIER='EV', OP_CARRIER_AIRLINE_ID=20366, OP_CARRIER='EV', TAIL_NUM='N12167', OP_CARRIER_FL_NUM=4404, ORIGIN_AIRPORT_ID=11618, ORIGIN_AIRPORT_SEQ_ID=1161802, ORIGIN='EWR', DEST_AIRPORT_ID=15412, DEST_AIRPORT_SEQ_ID=1541205, DEST='TYS', DEP_TIME=1848, DEP_DEL15=0.0, DEP_TIME_BLK='1800-1859', ARR_TIME=2120, ARR_DEL15=0.0, CANCELLED=0.0, DIVERTED=0.0, DISTANCE=631.0, _c21=None, DIVERTED_BOOL=False, CANCELLED_BOOL=False, DEP_DEL15_BOOL=False, ARR_DEL15_BOOL=False),\n",
       " Row(DAY_OF_MONTH=1, DAY_OF_WEEK=3, OP_UNIQUE_CARRIER='EV', OP_CARRIER_AIRLINE_ID=20366, OP_CARRIER='EV', TAIL_NUM='N14902', OP_CARRIER_FL_NUM=4405, ORIGIN_AIRPORT_ID=10781, ORIGIN_AIRPORT_SEQ_ID=1078105, ORIGIN='BTR', DEST_AIRPORT_ID=12266, DEST_AIRPORT_SEQ_ID=1226603, DEST='IAH', DEP_TIME=1846, DEP_DEL15=0.0, DEP_TIME_BLK='1800-1859', ARR_TIME=2004, ARR_DEL15=0.0, CANCELLED=0.0, DIVERTED=0.0, DISTANCE=253.0, _c21=None, DIVERTED_BOOL=False, CANCELLED_BOOL=False, DEP_DEL15_BOOL=False, ARR_DEL15_BOOL=False),\n",
       " Row(DAY_OF_MONTH=1, DAY_OF_WEEK=3, OP_UNIQUE_CARRIER='EV', OP_CARRIER_AIRLINE_ID=20366, OP_CARRIER='EV', TAIL_NUM='N606UX', OP_CARRIER_FL_NUM=4407, ORIGIN_AIRPORT_ID=14524, ORIGIN_AIRPORT_SEQ_ID=1452401, ORIGIN='RIC', DEST_AIRPORT_ID=12266, DEST_AIRPORT_SEQ_ID=1226603, DEST='IAH', DEP_TIME=1038, DEP_DEL15=0.0, DEP_TIME_BLK='1000-1059', ARR_TIME=1330, ARR_DEL15=0.0, CANCELLED=0.0, DIVERTED=0.0, DISTANCE=1157.0, _c21=None, DIVERTED_BOOL=False, CANCELLED_BOOL=False, DEP_DEL15_BOOL=False, ARR_DEL15_BOOL=False),\n",
       " Row(DAY_OF_MONTH=1, DAY_OF_WEEK=3, OP_UNIQUE_CARRIER='EV', OP_CARRIER_AIRLINE_ID=20366, OP_CARRIER='EV', TAIL_NUM='N605UX', OP_CARRIER_FL_NUM=4408, ORIGIN_AIRPORT_ID=13871, ORIGIN_AIRPORT_SEQ_ID=1387102, ORIGIN='OMA', DEST_AIRPORT_ID=12266, DEST_AIRPORT_SEQ_ID=1226603, DEST='IAH', DEP_TIME=555, DEP_DEL15=0.0, DEP_TIME_BLK='0600-0659', ARR_TIME=838, ARR_DEL15=0.0, CANCELLED=0.0, DIVERTED=0.0, DISTANCE=781.0, _c21=None, DIVERTED_BOOL=False, CANCELLED_BOOL=False, DEP_DEL15_BOOL=False, ARR_DEL15_BOOL=False),\n",
       " Row(DAY_OF_MONTH=1, DAY_OF_WEEK=3, OP_UNIQUE_CARRIER='EV', OP_CARRIER_AIRLINE_ID=20366, OP_CARRIER='EV', TAIL_NUM='N14991', OP_CARRIER_FL_NUM=4410, ORIGIN_AIRPORT_ID=12266, ORIGIN_AIRPORT_SEQ_ID=1226603, ORIGIN='IAH', DEST_AIRPORT_ID=14814, DEST_AIRPORT_SEQ_ID=1481402, DEST='SHV', DEP_TIME=1610, DEP_DEL15=0.0, DEP_TIME_BLK='1600-1659', ARR_TIME=1718, ARR_DEL15=0.0, CANCELLED=0.0, DIVERTED=0.0, DISTANCE=192.0, _c21=None, DIVERTED_BOOL=False, CANCELLED_BOOL=False, DEP_DEL15_BOOL=False, ARR_DEL15_BOOL=False),\n",
       " Row(DAY_OF_MONTH=1, DAY_OF_WEEK=3, OP_UNIQUE_CARRIER='EV', OP_CARRIER_AIRLINE_ID=20366, OP_CARRIER='EV', TAIL_NUM='N15986', OP_CARRIER_FL_NUM=4411, ORIGIN_AIRPORT_ID=12266, ORIGIN_AIRPORT_SEQ_ID=1226603, ORIGIN='IAH', DEST_AIRPORT_ID=12206, DEST_AIRPORT_SEQ_ID=1220605, DEST='HRL', DEP_TIME=1415, DEP_DEL15=0.0, DEP_TIME_BLK='1400-1459', ARR_TIME=1531, ARR_DEL15=0.0, CANCELLED=0.0, DIVERTED=0.0, DISTANCE=295.0, _c21=None, DIVERTED_BOOL=False, CANCELLED_BOOL=False, DEP_DEL15_BOOL=False, ARR_DEL15_BOOL=False),\n",
       " Row(DAY_OF_MONTH=1, DAY_OF_WEEK=3, OP_UNIQUE_CARRIER='EV', OP_CARRIER_AIRLINE_ID=20366, OP_CARRIER='EV', TAIL_NUM='N603UX', OP_CARRIER_FL_NUM=4412, ORIGIN_AIRPORT_ID=13930, ORIGIN_AIRPORT_SEQ_ID=1393007, ORIGIN='ORD', DEST_AIRPORT_ID=10140, DEST_AIRPORT_SEQ_ID=1014005, DEST='ABQ', DEP_TIME=1938, DEP_DEL15=0.0, DEP_TIME_BLK='1900-1959', ARR_TIME=2204, ARR_DEL15=0.0, CANCELLED=0.0, DIVERTED=0.0, DISTANCE=1118.0, _c21=None, DIVERTED_BOOL=False, CANCELLED_BOOL=False, DEP_DEL15_BOOL=False, ARR_DEL15_BOOL=False),\n",
       " Row(DAY_OF_MONTH=1, DAY_OF_WEEK=3, OP_UNIQUE_CARRIER='EV', OP_CARRIER_AIRLINE_ID=20366, OP_CARRIER='EV', TAIL_NUM='N13975', OP_CARRIER_FL_NUM=4414, ORIGIN_AIRPORT_ID=11618, ORIGIN_AIRPORT_SEQ_ID=1161802, ORIGIN='EWR', DEST_AIRPORT_ID=13485, DEST_AIRPORT_SEQ_ID=1348502, DEST='MSN', DEP_TIME=1011, DEP_DEL15=0.0, DEP_TIME_BLK='1000-1059', ARR_TIME=1139, ARR_DEL15=0.0, CANCELLED=0.0, DIVERTED=0.0, DISTANCE=799.0, _c21=None, DIVERTED_BOOL=False, CANCELLED_BOOL=False, DEP_DEL15_BOOL=False, ARR_DEL15_BOOL=False)]"
      ]
     },
     "execution_count": 8,
     "metadata": {},
     "output_type": "execute_result"
    }
   ],
   "source": [
    "pysparkDF.head(10)"
   ]
  },
  {
   "cell_type": "code",
   "execution_count": 9,
   "metadata": {},
   "outputs": [
    {
     "name": "stdout",
     "output_type": "stream",
     "text": [
      "+-------+------------------+------------------+-----------------+---------------------+----------+--------+-----------------+------------------+---------------------+------+------------------+-------------------+------+------------------+------------------+------------+------------------+-------------------+--------------------+--------------------+-----------------+----+\n",
      "|summary|      DAY_OF_MONTH|       DAY_OF_WEEK|OP_UNIQUE_CARRIER|OP_CARRIER_AIRLINE_ID|OP_CARRIER|TAIL_NUM|OP_CARRIER_FL_NUM| ORIGIN_AIRPORT_ID|ORIGIN_AIRPORT_SEQ_ID|ORIGIN|   DEST_AIRPORT_ID|DEST_AIRPORT_SEQ_ID|  DEST|          DEP_TIME|         DEP_DEL15|DEP_TIME_BLK|          ARR_TIME|          ARR_DEL15|           CANCELLED|            DIVERTED|         DISTANCE|_c21|\n",
      "+-------+------------------+------------------+-----------------+---------------------+----------+--------+-----------------+------------------+---------------------+------+------------------+-------------------+------+------------------+------------------+------------+------------------+-------------------+--------------------+--------------------+-----------------+----+\n",
      "|  count|            607346|            607346|           607346|               607346|    607346|  606648|           607346|            607346|               607346|607346|            607346|             607346|607346|            600682|            600647|      607346|            600271|             599268|              607346|              607346|           607346|   0|\n",
      "|   mean|16.014354256058326| 3.955735281042437|             null|    19994.13749164397|      null|    null|2622.365261317272|12657.389166965782|   1265742.8242254003|  null|12657.196319725494| 1265723.5396693153|  null| 1331.512559057871|0.1363263281095219|        null|1477.9689240359771|0.13730918387098928|0.011407006879110095|0.001893484109552051|798.0223414659848|null|\n",
      "| stddev| 8.990719126889648|1.9102054548545773|             null|   375.75423214320347|      null|    null|1822.545301877497|1524.4072025827684|   152440.46778302494|  null|1524.2792694794846|  152427.6747905265|  null|497.09516826233767|0.3431350410529505|        null| 525.5432937333206|0.34417374909015785| 0.10619277584037734|0.043473002417792915|587.2826386818423|null|\n",
      "|    min|                 1|                 1|               9E|                19393|        9E|   215NV|                1|             10135|              1013506|   ABE|             10135|            1013506|   ABE|                 1|               0.0|   0001-0559|                 1|                0.0|                 0.0|                 0.0|             31.0|null|\n",
      "|    25%|                 8|                 2|             null|                19790|      null|    null|             1070|             11292|              1129202|  null|             11292|            1129202|  null|               919|               0.0|        null|              1058|                0.0|                 0.0|                 0.0|            369.0|null|\n",
      "|    50%|                16|                 4|             null|                19977|      null|    null|             2177|             12889|              1288903|  null|             12889|            1288903|  null|              1326|               0.0|        null|              1513|                0.0|                 0.0|                 0.0|            641.0|null|\n",
      "|    75%|                24|                 5|             null|                20378|      null|    null|             4108|             14027|              1402702|  null|             14027|            1402702|  null|              1739|               0.0|        null|              1918|                0.0|                 0.0|                 0.0|           1037.0|null|\n",
      "|    max|                31|                 7|               YX|                20452|        YX|  N999JQ|             6860|             16869|              1686901|   YUM|             16869|            1686901|   YUM|              2400|               1.0|   2300-2359|              2400|                1.0|                 1.0|                 1.0|           5095.0|null|\n",
      "+-------+------------------+------------------+-----------------+---------------------+----------+--------+-----------------+------------------+---------------------+------+------------------+-------------------+------+------------------+------------------+------------+------------------+-------------------+--------------------+--------------------+-----------------+----+\n",
      "\n"
     ]
    }
   ],
   "source": [
    "pysparkDF.summary().show()"
   ]
  },
  {
   "cell_type": "code",
   "execution_count": 10,
   "metadata": {},
   "outputs": [
    {
     "name": "stdout",
     "output_type": "stream",
     "text": [
      "+-----------------+-----+\n",
      "|OP_CARRIER_FL_NUM|count|\n",
      "+-----------------+-----+\n",
      "|             3997|  100|\n",
      "|             4101|   79|\n",
      "|             6620|    3|\n",
      "|             4519|   49|\n",
      "|             1088|  116|\n",
      "|             6654|   44|\n",
      "|             6336|    6|\n",
      "|             1645|   90|\n",
      "|             1959|  228|\n",
      "|              148|   81|\n",
      "|             2142|  201|\n",
      "|             3749|   69|\n",
      "|             3794|   68|\n",
      "|             2866|   78|\n",
      "|             1580|  203|\n",
      "|             1829|  125|\n",
      "|             1591|  184|\n",
      "|             2122|  201|\n",
      "|             5300|  130|\n",
      "|             4818|   16|\n",
      "+-----------------+-----+\n",
      "only showing top 20 rows\n",
      "\n"
     ]
    }
   ],
   "source": [
    "# DATA UNDERSTANDING!\n",
    "# Check whether OP_CARRIER_FL_NUM is merely running id for flights or rather encoding specific trims (e.g. Istanbul -> New York)\n",
    "pysparkDF.groupby('OP_CARRIER_FL_NUM').count().show()"
   ]
  },
  {
   "cell_type": "code",
   "execution_count": 11,
   "metadata": {},
   "outputs": [
    {
     "name": "stdout",
     "output_type": "stream",
     "text": [
      "+--------+-----+\n",
      "|TAIL_NUM|count|\n",
      "+--------+-----+\n",
      "|  N615UX|  140|\n",
      "|  N954WN|  188|\n",
      "|  N8513F|  131|\n",
      "|  N8322X|  143|\n",
      "|  N8554X|  129|\n",
      "|  N510UW|  114|\n",
      "|  N102UW|   57|\n",
      "|  N997NN|  110|\n",
      "|  N623NK|  145|\n",
      "|  N331NB|  103|\n",
      "|  N388DA|   92|\n",
      "|  N902DE|  170|\n",
      "|  N369NB|  117|\n",
      "|   N6700|   97|\n",
      "|  N88301|  105|\n",
      "|  N178SY|  133|\n",
      "|  N866AS|  174|\n",
      "|  N36472|  100|\n",
      "|  N38451|   99|\n",
      "|  N73283|   91|\n",
      "+--------+-----+\n",
      "only showing top 20 rows\n",
      "\n",
      "+------------------+\n",
      "|        avg(count)|\n",
      "+------------------+\n",
      "|111.54196510560146|\n",
      "+------------------+\n",
      "\n"
     ]
    }
   ],
   "source": [
    "# DATA UNDERSTANDING!\n",
    "# A tail number refers to an identification number painted on an aircraft, frequently on the tail.\n",
    "# Check amount of flights per plane\n",
    "pysparkDF.groupby('TAIL_NUM').count().show()\n",
    "\n",
    "# Check average flights per plane per year\n",
    "pysparkDF.groupby('TAIL_NUM').count().agg(F.mean('count')).show()"
   ]
  },
  {
   "cell_type": "code",
   "execution_count": 12,
   "metadata": {},
   "outputs": [
    {
     "data": {
      "text/plain": [
       "True"
      ]
     },
     "execution_count": 12,
     "metadata": {},
     "output_type": "execute_result"
    }
   ],
   "source": [
    "# DATA UNDERSTANDING!\n",
    "# Check whether ORIGIN_AIRPORT_ID is 1:1 mapping onto ORIGIN\n",
    "pysparkDF.groupby(['ORIGIN_AIRPORT_ID','ORIGIN']).count().count() == pysparkDF.groupby(['ORIGIN_AIRPORT_ID','ORIGIN']).count().dropDuplicates(['ORIGIN_AIRPORT_ID']).count()\n",
    "\n",
    "# -> ORIGIN_AIRPORT_ID is string indexing ORIGIN"
   ]
  },
  {
   "cell_type": "code",
   "execution_count": 13,
   "metadata": {},
   "outputs": [
    {
     "data": {
      "text/plain": [
       "True"
      ]
     },
     "execution_count": 13,
     "metadata": {},
     "output_type": "execute_result"
    }
   ],
   "source": [
    "# DATA UNDERSTANDING!\n",
    "# Check whether ORIGIN_AIRPORT_ID is 1:1 mapping onto ORIGIN_AIRPORT_SEQ_ID\n",
    "pysparkDF.groupby(['ORIGIN_AIRPORT_ID','ORIGIN_AIRPORT_SEQ_ID']).count().count() == pysparkDF.groupby(['ORIGIN_AIRPORT_ID','ORIGIN_AIRPORT_SEQ_ID']).count().dropDuplicates(['ORIGIN_AIRPORT_ID']).count()\n",
    "\n",
    "# -> ORIGIN_AIRPORT_ID is 1:1 mapping to ORIGIN_AIRPORT_SEQ_ID"
   ]
  },
  {
   "cell_type": "code",
   "execution_count": 14,
   "metadata": {},
   "outputs": [
    {
     "data": {
      "text/plain": [
       "True"
      ]
     },
     "execution_count": 14,
     "metadata": {},
     "output_type": "execute_result"
    }
   ],
   "source": [
    "# DATA UNDERSTANDING!\n",
    "# Check whether DEST_AIRPORT_ID is 1:1 mapping onto DEST\n",
    "pysparkDF.groupby(['DEST_AIRPORT_ID','DEST']).count().count() == pysparkDF.groupby(['DEST_AIRPORT_ID','DEST']).count().dropDuplicates(['DEST_AIRPORT_ID']).count()\n",
    "\n",
    "# -> DEST_AIRPORT_ID is string indexing DEST"
   ]
  },
  {
   "cell_type": "code",
   "execution_count": 15,
   "metadata": {},
   "outputs": [
    {
     "data": {
      "text/plain": [
       "True"
      ]
     },
     "execution_count": 15,
     "metadata": {},
     "output_type": "execute_result"
    }
   ],
   "source": [
    "# DATA UNDERSTANDING!\n",
    "# Check whether DEST_AIRPORT_ID is 1:1 mapping onto DEST_AIRPORT_SEQ_ID\n",
    "pysparkDF.groupby(['DEST_AIRPORT_ID','DEST_AIRPORT_SEQ_ID']).count().count() == pysparkDF.groupby(['DEST_AIRPORT_ID','DEST_AIRPORT_SEQ_ID']).count().dropDuplicates(['DEST_AIRPORT_SEQ_ID']).count()\n",
    "\n",
    "# -> DEST_AIRPORT_ID is 1:1 mapping to ORIGIN_AIRPORT_SEQ_ID"
   ]
  },
  {
   "cell_type": "code",
   "execution_count": 16,
   "metadata": {},
   "outputs": [
    {
     "data": {
      "text/plain": [
       "True"
      ]
     },
     "execution_count": 16,
     "metadata": {},
     "output_type": "execute_result"
    }
   ],
   "source": [
    "# DATA UNDERSTANDING!\n",
    "# Check whether OP_UNIQUE_CARRIER is 1:1 mapping onto OP_CARRIER\n",
    "pysparkDF.groupby(['OP_UNIQUE_CARRIER','OP_CARRIER']).count().count() == pysparkDF.groupby(['OP_UNIQUE_CARRIER','OP_CARRIER']).count().dropDuplicates(['OP_UNIQUE_CARRIER']).count()\n",
    "\n",
    "# -> OP_UNIQUE_CARRIER is 1:1 mapping to OP_CARRIER"
   ]
  },
  {
   "cell_type": "code",
   "execution_count": 17,
   "metadata": {},
   "outputs": [
    {
     "data": {
      "text/plain": [
       "False"
      ]
     },
     "execution_count": 17,
     "metadata": {},
     "output_type": "execute_result"
    }
   ],
   "source": [
    "# DATA UNDERSTANDING!\n",
    "# Check whether TAIL_NUM is 1:1 mapping onto OP_CARRIER_FL_NUM\n",
    "pysparkDF.groupby(['TAIL_NUM','OP_CARRIER_FL_NUM']).count().count() == pysparkDF.groupby(['TAIL_NUM','OP_CARRIER_FL_NUM']).count().dropDuplicates(['OP_CARRIER_FL_NUM']).count()\n",
    "\n",
    "# -> TAIL_NUM is not 1:1 mapping to OP_CARRIER_FL_NUM -> One distinct plane can fly multiple routes"
   ]
  },
  {
   "cell_type": "code",
   "execution_count": 18,
   "metadata": {},
   "outputs": [],
   "source": [
    "pandasDF =pysparkDF.toPandas()"
   ]
  },
  {
   "cell_type": "code",
   "execution_count": 19,
   "metadata": {},
   "outputs": [
    {
     "data": {
      "text/plain": [
       "[Row(DAY_OF_MONTH=1, DAY_OF_WEEK=3, OP_UNIQUE_CARRIER='EV', OP_CARRIER_AIRLINE_ID=20366, OP_CARRIER='EV', TAIL_NUM='N48901', OP_CARRIER_FL_NUM=4397, ORIGIN_AIRPORT_ID=13930, ORIGIN_AIRPORT_SEQ_ID=1393007, ORIGIN='ORD', DEST_AIRPORT_ID=11977, DEST_AIRPORT_SEQ_ID=1197705, DEST='GRB', DEP_TIME=1003, DEP_DEL15=0.0, DEP_TIME_BLK='1000-1059', ARR_TIME=1117, ARR_DEL15=0.0, CANCELLED=0.0, DIVERTED=0.0, DISTANCE=174.0, _c21=None, DIVERTED_BOOL=False, CANCELLED_BOOL=False, DEP_DEL15_BOOL=False, ARR_DEL15_BOOL=False),\n",
       " Row(DAY_OF_MONTH=1, DAY_OF_WEEK=3, OP_UNIQUE_CARRIER='EV', OP_CARRIER_AIRLINE_ID=20366, OP_CARRIER='EV', TAIL_NUM='N16976', OP_CARRIER_FL_NUM=4401, ORIGIN_AIRPORT_ID=15370, ORIGIN_AIRPORT_SEQ_ID=1537002, ORIGIN='TUL', DEST_AIRPORT_ID=13930, DEST_AIRPORT_SEQ_ID=1393007, DEST='ORD', DEP_TIME=1027, DEP_DEL15=0.0, DEP_TIME_BLK='1000-1059', ARR_TIME=1216, ARR_DEL15=0.0, CANCELLED=0.0, DIVERTED=0.0, DISTANCE=585.0, _c21=None, DIVERTED_BOOL=False, CANCELLED_BOOL=False, DEP_DEL15_BOOL=False, ARR_DEL15_BOOL=False),\n",
       " Row(DAY_OF_MONTH=1, DAY_OF_WEEK=3, OP_UNIQUE_CARRIER='EV', OP_CARRIER_AIRLINE_ID=20366, OP_CARRIER='EV', TAIL_NUM='N12167', OP_CARRIER_FL_NUM=4404, ORIGIN_AIRPORT_ID=11618, ORIGIN_AIRPORT_SEQ_ID=1161802, ORIGIN='EWR', DEST_AIRPORT_ID=15412, DEST_AIRPORT_SEQ_ID=1541205, DEST='TYS', DEP_TIME=1848, DEP_DEL15=0.0, DEP_TIME_BLK='1800-1859', ARR_TIME=2120, ARR_DEL15=0.0, CANCELLED=0.0, DIVERTED=0.0, DISTANCE=631.0, _c21=None, DIVERTED_BOOL=False, CANCELLED_BOOL=False, DEP_DEL15_BOOL=False, ARR_DEL15_BOOL=False),\n",
       " Row(DAY_OF_MONTH=1, DAY_OF_WEEK=3, OP_UNIQUE_CARRIER='EV', OP_CARRIER_AIRLINE_ID=20366, OP_CARRIER='EV', TAIL_NUM='N14902', OP_CARRIER_FL_NUM=4405, ORIGIN_AIRPORT_ID=10781, ORIGIN_AIRPORT_SEQ_ID=1078105, ORIGIN='BTR', DEST_AIRPORT_ID=12266, DEST_AIRPORT_SEQ_ID=1226603, DEST='IAH', DEP_TIME=1846, DEP_DEL15=0.0, DEP_TIME_BLK='1800-1859', ARR_TIME=2004, ARR_DEL15=0.0, CANCELLED=0.0, DIVERTED=0.0, DISTANCE=253.0, _c21=None, DIVERTED_BOOL=False, CANCELLED_BOOL=False, DEP_DEL15_BOOL=False, ARR_DEL15_BOOL=False),\n",
       " Row(DAY_OF_MONTH=1, DAY_OF_WEEK=3, OP_UNIQUE_CARRIER='EV', OP_CARRIER_AIRLINE_ID=20366, OP_CARRIER='EV', TAIL_NUM='N606UX', OP_CARRIER_FL_NUM=4407, ORIGIN_AIRPORT_ID=14524, ORIGIN_AIRPORT_SEQ_ID=1452401, ORIGIN='RIC', DEST_AIRPORT_ID=12266, DEST_AIRPORT_SEQ_ID=1226603, DEST='IAH', DEP_TIME=1038, DEP_DEL15=0.0, DEP_TIME_BLK='1000-1059', ARR_TIME=1330, ARR_DEL15=0.0, CANCELLED=0.0, DIVERTED=0.0, DISTANCE=1157.0, _c21=None, DIVERTED_BOOL=False, CANCELLED_BOOL=False, DEP_DEL15_BOOL=False, ARR_DEL15_BOOL=False),\n",
       " Row(DAY_OF_MONTH=1, DAY_OF_WEEK=3, OP_UNIQUE_CARRIER='EV', OP_CARRIER_AIRLINE_ID=20366, OP_CARRIER='EV', TAIL_NUM='N605UX', OP_CARRIER_FL_NUM=4408, ORIGIN_AIRPORT_ID=13871, ORIGIN_AIRPORT_SEQ_ID=1387102, ORIGIN='OMA', DEST_AIRPORT_ID=12266, DEST_AIRPORT_SEQ_ID=1226603, DEST='IAH', DEP_TIME=555, DEP_DEL15=0.0, DEP_TIME_BLK='0600-0659', ARR_TIME=838, ARR_DEL15=0.0, CANCELLED=0.0, DIVERTED=0.0, DISTANCE=781.0, _c21=None, DIVERTED_BOOL=False, CANCELLED_BOOL=False, DEP_DEL15_BOOL=False, ARR_DEL15_BOOL=False),\n",
       " Row(DAY_OF_MONTH=1, DAY_OF_WEEK=3, OP_UNIQUE_CARRIER='EV', OP_CARRIER_AIRLINE_ID=20366, OP_CARRIER='EV', TAIL_NUM='N14991', OP_CARRIER_FL_NUM=4410, ORIGIN_AIRPORT_ID=12266, ORIGIN_AIRPORT_SEQ_ID=1226603, ORIGIN='IAH', DEST_AIRPORT_ID=14814, DEST_AIRPORT_SEQ_ID=1481402, DEST='SHV', DEP_TIME=1610, DEP_DEL15=0.0, DEP_TIME_BLK='1600-1659', ARR_TIME=1718, ARR_DEL15=0.0, CANCELLED=0.0, DIVERTED=0.0, DISTANCE=192.0, _c21=None, DIVERTED_BOOL=False, CANCELLED_BOOL=False, DEP_DEL15_BOOL=False, ARR_DEL15_BOOL=False),\n",
       " Row(DAY_OF_MONTH=1, DAY_OF_WEEK=3, OP_UNIQUE_CARRIER='EV', OP_CARRIER_AIRLINE_ID=20366, OP_CARRIER='EV', TAIL_NUM='N15986', OP_CARRIER_FL_NUM=4411, ORIGIN_AIRPORT_ID=12266, ORIGIN_AIRPORT_SEQ_ID=1226603, ORIGIN='IAH', DEST_AIRPORT_ID=12206, DEST_AIRPORT_SEQ_ID=1220605, DEST='HRL', DEP_TIME=1415, DEP_DEL15=0.0, DEP_TIME_BLK='1400-1459', ARR_TIME=1531, ARR_DEL15=0.0, CANCELLED=0.0, DIVERTED=0.0, DISTANCE=295.0, _c21=None, DIVERTED_BOOL=False, CANCELLED_BOOL=False, DEP_DEL15_BOOL=False, ARR_DEL15_BOOL=False),\n",
       " Row(DAY_OF_MONTH=1, DAY_OF_WEEK=3, OP_UNIQUE_CARRIER='EV', OP_CARRIER_AIRLINE_ID=20366, OP_CARRIER='EV', TAIL_NUM='N603UX', OP_CARRIER_FL_NUM=4412, ORIGIN_AIRPORT_ID=13930, ORIGIN_AIRPORT_SEQ_ID=1393007, ORIGIN='ORD', DEST_AIRPORT_ID=10140, DEST_AIRPORT_SEQ_ID=1014005, DEST='ABQ', DEP_TIME=1938, DEP_DEL15=0.0, DEP_TIME_BLK='1900-1959', ARR_TIME=2204, ARR_DEL15=0.0, CANCELLED=0.0, DIVERTED=0.0, DISTANCE=1118.0, _c21=None, DIVERTED_BOOL=False, CANCELLED_BOOL=False, DEP_DEL15_BOOL=False, ARR_DEL15_BOOL=False),\n",
       " Row(DAY_OF_MONTH=1, DAY_OF_WEEK=3, OP_UNIQUE_CARRIER='EV', OP_CARRIER_AIRLINE_ID=20366, OP_CARRIER='EV', TAIL_NUM='N13975', OP_CARRIER_FL_NUM=4414, ORIGIN_AIRPORT_ID=11618, ORIGIN_AIRPORT_SEQ_ID=1161802, ORIGIN='EWR', DEST_AIRPORT_ID=13485, DEST_AIRPORT_SEQ_ID=1348502, DEST='MSN', DEP_TIME=1011, DEP_DEL15=0.0, DEP_TIME_BLK='1000-1059', ARR_TIME=1139, ARR_DEL15=0.0, CANCELLED=0.0, DIVERTED=0.0, DISTANCE=799.0, _c21=None, DIVERTED_BOOL=False, CANCELLED_BOOL=False, DEP_DEL15_BOOL=False, ARR_DEL15_BOOL=False)]"
      ]
     },
     "execution_count": 19,
     "metadata": {},
     "output_type": "execute_result"
    }
   ],
   "source": [
    "pysparkDF.head(10)"
   ]
  },
  {
   "cell_type": "markdown",
   "metadata": {},
   "source": [
    "Eine Übersicht der Kennzahlen wie Anzahl der Einträge, Mittelwert, Minimum und Maximum je Spalte kann durch den Befehl 'pandasDF.describe()' erzeugt werden."
   ]
  },
  {
   "cell_type": "code",
   "execution_count": 20,
   "metadata": {},
   "outputs": [
    {
     "data": {
      "text/plain": [
       "DataFrame[summary: string, DAY_OF_MONTH: string, DAY_OF_WEEK: string, OP_UNIQUE_CARRIER: string, OP_CARRIER_AIRLINE_ID: string, OP_CARRIER: string, TAIL_NUM: string, OP_CARRIER_FL_NUM: string, ORIGIN_AIRPORT_ID: string, ORIGIN_AIRPORT_SEQ_ID: string, ORIGIN: string, DEST_AIRPORT_ID: string, DEST_AIRPORT_SEQ_ID: string, DEST: string, DEP_TIME: string, DEP_DEL15: string, DEP_TIME_BLK: string, ARR_TIME: string, ARR_DEL15: string, CANCELLED: string, DIVERTED: string, DISTANCE: string, _c21: string]"
      ]
     },
     "execution_count": 20,
     "metadata": {},
     "output_type": "execute_result"
    }
   ],
   "source": [
    "pysparkDF.describe()"
   ]
  },
  {
   "cell_type": "markdown",
   "metadata": {},
   "source": [
    "### Remove faulty features\n",
    "Bei der Spalte \"_c21\" handelt es sich um eine leere Spalte. Die Spalte enthält keine Daten und kann somit entfernt werden."
   ]
  },
  {
   "cell_type": "code",
   "execution_count": 21,
   "metadata": {
    "tags": []
   },
   "outputs": [],
   "source": [
    "#pysparkDF = pysparkDF.drop('_c21')\r\n",
    "#pysparkDF.printSchema()"
   ]
  },
  {
   "cell_type": "markdown",
   "metadata": {},
   "source": [
    "### Remove records containing NULL values\n",
    "Der Datensatz enthält Felder mit NULL Werten. Diese werden für die Auswertung enfernt."
   ]
  },
  {
   "cell_type": "code",
   "execution_count": 22,
   "metadata": {},
   "outputs": [
    {
     "data": {
      "text/plain": [
       "'Removed 607346 records containing NULL values'"
      ]
     },
     "execution_count": 22,
     "metadata": {},
     "output_type": "execute_result"
    }
   ],
   "source": [
    "pysparkDF_nonull = pysparkDF.dropna()\n",
    "f\"Removed {pysparkDF.count()-pysparkDF_nonull.count()} records containing NULL values\""
   ]
  },
  {
   "cell_type": "markdown",
   "metadata": {},
   "source": [
    "Die Anzahl der Einträge je Wert einer Spalte kann mit Hilfe der Funktion 'DataFrame('Kategorie').value_counts()' berechnet werden. "
   ]
  },
  {
   "cell_type": "code",
   "execution_count": 25,
   "metadata": {},
   "outputs": [
    {
     "ename": "SyntaxError",
     "evalue": "unmatched ')' (<ipython-input-25-3457c6ad60b4>, line 2)",
     "output_type": "error",
     "traceback": [
      "\u001b[0;36m  File \u001b[0;32m\"<ipython-input-25-3457c6ad60b4>\"\u001b[0;36m, line \u001b[0;32m2\u001b[0m\n\u001b[0;31m    printpandasDFF['DEP_DEL15'].value_counts())\u001b[0m\n\u001b[0m                                              ^\u001b[0m\n\u001b[0;31mSyntaxError\u001b[0m\u001b[0;31m:\u001b[0m unmatched ')'\n"
     ]
    }
   ],
   "source": [
    "print(\"Anzahl an pünktlichen (0) und verspäteten (1) Flügen beim Abflug\")\r\n",
    "print(pandasDF['DEP_DEL15'].value_counts())\r\n",
    "\r\n",
    "print(\"Anzahl an pünktlichen (0) und verspäteten (1) Flügen bei der Ankuft\")\r\n",
    "print(pandasDF['ARR_DEL15'].value_counts())"
   ]
  },
  {
   "cell_type": "markdown",
   "metadata": {},
   "source": [
    "### Data Statistic and\n",
    "Der Datensatz enthält Felder mit NULL Werten. Diese werden für die Auswertung enfernt."
   ]
  },
  {
   "cell_type": "code",
   "execution_count": 26,
   "metadata": {},
   "outputs": [
    {
     "name": "stdout",
     "output_type": "stream",
     "text": [
      "Saving figure attribute_histogram_plots\n"
     ]
    },
    {
     "data": {
      "image/png": "[encoded data removed]",
      "text/plain": [
       "<Figure size 1440x1080 with 12 Axes>"
      ]
     },
     "metadata": {
      "needs_background": "light"
     },
     "output_type": "display_data"
    }
   ],
   "source": [
    "pysparkDF.drop('OP_CARRIER','DEST','DEST_AIRPORT_SEQ_ID','OP_UNIQUE_CARRIER', 'ORIGIN_AIRPORT_SEQ_ID', 'ORIGIN', '_c21', 'TAIL_NUM', 'OP_CARRIER_FL_NUM').toPandas().hist(bins=50, figsize=(20,15))\r\n",
    "save_fig(\"attribute_histogram_plots\")\r\n",
    "plt.show()"
   ]
  },
  {
   "cell_type": "markdown",
   "metadata": {},
   "source": [
    "Stacked Bar"
   ]
  },
  {
   "cell_type": "code",
   "execution_count": 28,
   "metadata": {},
   "outputs": [
    {
     "ename": "SyntaxError",
     "evalue": "invalid syntax (<ipython-input-28-0d1786b8bdba>, line 5)",
     "output_type": "error",
     "traceback": [
      "\u001b[0;36m  File \u001b[0;32m\"<ipython-input-28-0d1786b8bdba>\"\u001b[0;36m, line \u001b[0;32m5\u001b[0m\n\u001b[0;31m    ax = pysparkDF.groupby([\"OP_CARRIER\",\"DEP_DEL15\"]).cou.toPandas()nt().filter(pysparkDF.DEP_DEL15 == 0).sort_values(by=\"OP_CARRIER\",ascending=True).plot.bar(stacked=True, x=\"OP_CARRIER\", color='Blue', label='Not Delayed')\u001b[0m\n\u001b[0m                                                                     ^\u001b[0m\n\u001b[0;31mSyntaxError\u001b[0m\u001b[0;31m:\u001b[0m invalid syntax\n"
     ]
    }
   ],
   "source": [
    "# Show Count of Flights Delayed and on Time\r\n",
    "#sumFlights = pysparkDF.groupby(\"DEP_DEL15\").count()\r\n",
    "#print(int(sumFlights))\r\n",
    "# Create bars for filtered value Delayed (1) and on time (0)\r\n",
    "ax = pysparkDF.groupby([\"OP_CARRIER\",\"DEP_DEL15\"]).count.toPandas().filter(pysparkDF.DEP_DEL15 == 0).sort_values(by=\"OP_CARRIER\",ascending=True).plot.bar(stacked=True, x=\"OP_CARRIER\", color='Blue', label='Not Delayed')\r\n",
    "pysparkDF.groupby([\"OP_CARRIER\",\"DEP_DEL15\"]).count.toPandas().filter(pysparkDF.DEP_DEL15 == 1).sort_values(by=\"OP_CARRIER\",ascending=True).plot.bar(stacked=True, x=\"OP_CARRIER\", color='Orange', label='Delayed', ax=ax )\r\n",
    "\r\n",
    "\r\n",
    "plt.ylabel(\"Count Flight\")\r\n",
    "\r\n",
    "save_fig(\"stacked_bar\")\r\n",
    "plt.show()"
   ]
  },
  {
   "cell_type": "code",
   "execution_count": 29,
   "metadata": {},
   "outputs": [
    {
     "name": "stdout",
     "output_type": "stream",
     "text": [
      "Saving figure stacked_bar2\n"
     ]
    },
    {
     "data": {
      "image/png": "[encoded data removed]",
      "text/plain": [
       "<Figure size 432x288 with 1 Axes>"
      ]
     },
     "metadata": {
      "needs_background": "light"
     },
     "output_type": "display_data"
    }
   ],
   "source": [
    "pandasDF.groupby(by=\"OP_CARRIER\")[['OP_CARRIER','CANCELLED', \"DIVERTED\",'ARR_DEL15']].sum().plot.bar()\r\n",
    "\r\n",
    "save_fig(\"stacked_bar2\")\r\n",
    "plt.show()"
   ]
  },
  {
   "cell_type": "markdown",
   "metadata": {},
   "source": [
    "Bar Chart 100%"
   ]
  },
  {
   "cell_type": "code",
   "execution_count": 30,
   "metadata": {},
   "outputs": [
    {
     "data": {
      "image/png": "[encoded data removed]",
      "text/plain": [
       "<Figure size 425.25x360 with 1 Axes>"
      ]
     },
     "metadata": {
      "needs_background": "light"
     },
     "output_type": "display_data"
    }
   ],
   "source": [
    "import matplotlib.patches as mpatches\r\n",
    "\r\n",
    "Data=pd.read_csv('../data/Flight_Delay_Jan_2020_ontime.csv')\r\n",
    "\r\n",
    "Data.head()\r\n",
    "\r\n",
    "x,y = 'DAY_OF_WEEK', 'DEP_DEL15'\r\n",
    "\r\n",
    "(Data\r\n",
    ".groupby(x)[y]\r\n",
    ".value_counts(normalize=True)\r\n",
    ".mul(100)\r\n",
    ".rename('percentage')\r\n",
    ".reset_index()\r\n",
    ".pipe((sns.catplot,'data'), x= 'DAY_OF_WEEK',y='percentage',hue=y, kind='bar'))\r\n",
    " \r\n",
    "# show the graph\r\n",
    "plt.show()\r\n",
    "\r\n"
   ]
  },
  {
   "cell_type": "markdown",
   "metadata": {},
   "source": [
    "Pie Chart"
   ]
  },
  {
   "cell_type": "code",
   "execution_count": 31,
   "metadata": {},
   "outputs": [
    {
     "ename": "SyntaxError",
     "evalue": "invalid syntax (<ipython-input-31-ee8081addaa4>, line 2)",
     "output_type": "error",
     "traceback": [
      "\u001b[0;36m  File \u001b[0;32m\"<ipython-input-31-ee8081addaa4>\"\u001b[0;36m, line \u001b[0;32m2\u001b[0m\n\u001b[0;31m    pysparkDF.groupby(\"DAY_OF_WEEK\", \"CANCELLED\").count().filter(pysparkDF.CANCELLED==1)toPandas()..plot.pie(y=\"DAY_OF_WEEK\", autopct=\"%.1f%%\", legend=False)\u001b[0m\n\u001b[0m                                                                                        ^\u001b[0m\n\u001b[0;31mSyntaxError\u001b[0m\u001b[0;31m:\u001b[0m invalid syntax\n"
     ]
    }
   ],
   "source": [
    "#data = df.groupby(\"DAY_OF_WEEK\").filter(df.CANCELLED==0).count()\r\n",
    "pysparkDF.groupby(\"DAY_OF_WEEK\", \"CANCELLED\").count().filter(pysparkDF.CANCELLED==1).toPandas().plot.pie(y=\"DAY_OF_WEEK\", autopct=\"%.1f%%\", legend=False)\r\n",
    "plt.suptitle(\"Cancelled Flights\", fontweight='bold')\r\n",
    "plt.show()\r\n"
   ]
  },
  {
   "cell_type": "markdown",
   "metadata": {},
   "source": [
    "Correlation"
   ]
  },
  {
   "cell_type": "code",
   "execution_count": null,
   "metadata": {},
   "outputs": [],
   "source": [
    "import matplotlib.patches as mpatches\r\n",
    "\r\n",
    "plt.figure(figsize = (12, 10))\r\n",
    "sns.heatmap(pyspars().corr(), annot = True, cmap = 'vlag')\r\n",
    "plt.show()"
   ]
  },
  {
   "cell_type": "markdown",
   "metadata": {},
   "source": [
    "Scatter Plot"
   ]
  },
  {
   "cell_type": "code",
   "execution_count": null,
   "metadata": {},
   "outputs": [],
   "source": [
    "ax = pysparkDF.select(\"OP_CARRIER_AIRLINE_ID\", \"ORIGIN_AIRPORT_ID\").filter(pysparkDF.ARR_DEL15 != 0).toPandas().plot.scatter(x='OP_CARRIER_AIRLINE_ID', y='ORIGIN_AIRPORT_ID', color='DarkBlue', label='ARR_DEL15 1')\r\n",
    "pysparkDF.select(\"OP_CARRIER_AIRLINE_ID\", \"ORIGIN_AIRPORT_ID\").filter(pysparkDF.DEP_DEL15 != 0).toPandas().plot.scatter(x='OP_CARRIER_AIRLINE_ID', y='ORIGIN_AIRPORT_ID', color='Yellow', label='DEP_DEL15 1', ax=ax)\r\n",
    "\r\n",
    "save_fig(\"scatter_plots\")\r\n",
    "plt.show()"
   ]
  },
  {
   "cell_type": "markdown",
   "metadata": {},
   "source": [
    "Scatter Matrix"
   ]
  },
  {
   "cell_type": "code",
   "execution_count": null,
   "metadata": {},
   "outputs": [],
   "source": [
    "from pandas.plotting import scatter_matrix\r\n",
    "scatter_matrix(pysparkDF.select(\"OP_CARRIER_AIRLINE_ID\", \"ORIGIN_AIRPORT_ID\", \"DEST_AIRPORT_ID\", \"DEP_DEL15\", \"Distance\"), alpha=0.2, figsize=(30, 30), diagonal='kde')\r\n",
    "save_fig(\"scatter_matrix\")\r\n",
    "plt.show()"
   ]
  },
  {
   "cell_type": "code",
   "execution_count": null,
   "metadata": {},
   "outputs": [],
   "source": [
    "#data = pysparkDF.groupby(\"DAY_OF_WEEK\").filter(df.CANCELLED==0).count()\r\n",
    "pysparkDF.groupby(\"DAY_OF_WEEK\", \"CANCELLED\").count().filter(pysparkDF.CANCELLED==1).plot.pie(y=\"DAY_OF_WEEK\", autopct=\"%.1f%%\", legend=False)\r\n",
    "plt.suptitle(\"Cancelled Flights\", fontweight='bold')\r\n",
    "plt.show()"
   ]
  },
  {
   "cell_type": "code",
   "execution_count": null,
   "metadata": {},
   "outputs": [],
   "source": [
    "#spark.stop()"
   ]
  },
  {
   "cell_type": "markdown",
   "metadata": {},
   "source": []
  }
 ],
 "metadata": {
  "interpreter": {
   "hash": "6478c44a3317eea7880644b1e90701767b1772da5d4d1e50fe9680e69436a5ad"
  },
  "kernelspec": {
   "display_name": "Python 3.9.4 64-bit",
   "name": "python3"
  },
  "language_info": {
   "name": "python",
   "version": ""
  }
 },
 "nbformat": 4,
 "nbformat_minor": 5
}